{
 "cells": [
  {
   "cell_type": "markdown",
   "id": "b5926098",
   "metadata": {},
   "source": [
    "## 6.1.4 Random"
   ]
  },
  {
   "cell_type": "code",
   "execution_count": 1,
   "id": "b9632d9a",
   "metadata": {},
   "outputs": [],
   "source": [
    "import random"
   ]
  },
  {
   "cell_type": "code",
   "execution_count": 3,
   "id": "456b0556",
   "metadata": {},
   "outputs": [
    {
     "data": {
      "text/plain": [
       "23"
      ]
     },
     "execution_count": 3,
     "metadata": {},
     "output_type": "execute_result"
    }
   ],
   "source": [
    "# Random integer between -90 and 90 (inclusive)\n",
    "random.randint(-90, 90)"
   ]
  },
  {
   "cell_type": "code",
   "execution_count": 4,
   "id": "e70e7492",
   "metadata": {},
   "outputs": [
    {
     "data": {
      "text/plain": [
       "0.062367958101561705"
      ]
     },
     "execution_count": 4,
     "metadata": {},
     "output_type": "execute_result"
    }
   ],
   "source": [
    "# Random float between 0 and 1\n",
    "random.random()"
   ]
  },
  {
   "cell_type": "code",
   "execution_count": 8,
   "id": "e6a07a29",
   "metadata": {},
   "outputs": [
    {
     "data": {
      "text/plain": [
       "-80.60780984554752"
      ]
     },
     "execution_count": 8,
     "metadata": {},
     "output_type": "execute_result"
    }
   ],
   "source": [
    "# Latitudes\n",
    "random_number = random.randint(-90, 89) + random.random()\n",
    "random_number"
   ]
  },
  {
   "cell_type": "code",
   "execution_count": 12,
   "id": "e0c13859",
   "metadata": {},
   "outputs": [
    {
     "name": "stdout",
     "output_type": "stream",
     "text": [
      "[-86.54682825959956, 0.07076162520822626, 69.66722041735014, -2.92113663177137, -81.55557476328656, -30.798891283998646, 69.24836331947874, 72.26521666135656, -76.66691375999643, 20.93742926566793]\n"
     ]
    }
   ],
   "source": [
    "# One way to generate 10 random lats\n",
    "x = 1\n",
    "latitudes = []\n",
    "while x < 11:\n",
    "    rand_lat = random.randint(-90, 89) + random.random()\n",
    "    latitudes.append(rand_lat)\n",
    "    x += 1\n",
    "\n",
    "print(latitudes)"
   ]
  },
  {
   "cell_type": "code",
   "execution_count": 15,
   "id": "19478840",
   "metadata": {},
   "outputs": [
    {
     "data": {
      "text/plain": [
       "-15"
      ]
     },
     "execution_count": 15,
     "metadata": {},
     "output_type": "execute_result"
    }
   ],
   "source": [
    "# Random int with stepping\n",
    "# Will increment by 1 by default\n",
    "random.randrange(-90, 90, step = 3)"
   ]
  },
  {
   "cell_type": "code",
   "execution_count": 16,
   "id": "3bf88cde",
   "metadata": {},
   "outputs": [
    {
     "data": {
      "text/plain": [
       "-19.629162218913777"
      ]
     },
     "execution_count": 16,
     "metadata": {},
     "output_type": "execute_result"
    }
   ],
   "source": [
    "# Generate a random float in a range\n",
    "random.uniform(-90, 90)"
   ]
  },
  {
   "cell_type": "markdown",
   "id": "bb94e801",
   "metadata": {},
   "source": [
    "### Generating many numbers may be assisted by another module"
   ]
  },
  {
   "cell_type": "code",
   "execution_count": 17,
   "id": "01485828",
   "metadata": {},
   "outputs": [],
   "source": [
    "import numpy as np"
   ]
  },
  {
   "cell_type": "markdown",
   "id": "cb3a24ba",
   "metadata": {},
   "source": [
    "### NumPy module has a built-in random module. Importing both is redundant"
   ]
  },
  {
   "cell_type": "code",
   "execution_count": 20,
   "id": "58660c2c",
   "metadata": {},
   "outputs": [
    {
     "data": {
      "text/plain": [
       "-52.582629592110656"
      ]
     },
     "execution_count": 20,
     "metadata": {},
     "output_type": "execute_result"
    }
   ],
   "source": [
    "# The .0's are optional and do not affect output\n",
    "np.random.uniform(-90.000, 90.00)"
   ]
  },
  {
   "cell_type": "code",
   "execution_count": 21,
   "id": "19c4d9c3",
   "metadata": {},
   "outputs": [
    {
     "data": {
      "text/plain": [
       "-49.357537663657105"
      ]
     },
     "execution_count": 21,
     "metadata": {},
     "output_type": "execute_result"
    }
   ],
   "source": [
    "# Another option\n",
    "np.random.uniform(low=-90, high=90)"
   ]
  },
  {
   "cell_type": "code",
   "execution_count": 22,
   "id": "bffd9b3e",
   "metadata": {},
   "outputs": [
    {
     "data": {
      "text/plain": [
       "array([ 32.90512167, -55.49893911,  42.12416179, -56.36323132,\n",
       "        -4.29035103,  11.26567371, -47.22413122, -36.24936948,\n",
       "        42.98157199, -38.27503086,  69.61409228,  -3.47120548,\n",
       "        29.83803177, -68.17598722, -24.97801231,  88.42561704,\n",
       "        66.4141139 , -71.29771921,  63.95104055,  41.07650006,\n",
       "        -3.75352437, -16.62285751,  73.64581058,  86.00419672,\n",
       "       -73.91071733, -80.01454682, -89.07650892, -57.60895952,\n",
       "       -25.97624002,  87.4251923 , -38.07636724,  46.86830687,\n",
       "       -10.38720063, -55.18878097,  79.57150767, -70.93953354,\n",
       "        10.75236687,   6.46606447, -80.62892176, -67.41775505,\n",
       "        45.93315511, -83.63318808, -71.74162602, -17.10820856,\n",
       "       -70.37193421,  25.7213262 , -70.18548041, -49.8314764 ,\n",
       "       -44.12159753, -75.7959083 ])"
      ]
     },
     "execution_count": 22,
     "metadata": {},
     "output_type": "execute_result"
    }
   ],
   "source": [
    "# Use size to tell function how many numbers to make\n",
    "np.random.uniform(-90, 90, size=50)"
   ]
  },
  {
   "cell_type": "markdown",
   "id": "e17f2932",
   "metadata": {},
   "source": [
    "## Timeit module for timing code"
   ]
  },
  {
   "cell_type": "code",
   "execution_count": 23,
   "id": "4b1159eb",
   "metadata": {},
   "outputs": [],
   "source": [
    "import timeit"
   ]
  },
  {
   "cell_type": "code",
   "execution_count": 25,
   "id": "2b0f7f6f",
   "metadata": {},
   "outputs": [
    {
     "name": "stdout",
     "output_type": "stream",
     "text": [
      "13.4 µs ± 176 ns per loop (mean ± std. dev. of 7 runs, 100,000 loops each)\n"
     ]
    }
   ],
   "source": [
    "# Output tells how long it took to do 7 runs at 1,000 loops per run\n",
    "%timeit np.random.uniform(-90, 90, size=1500)"
   ]
  },
  {
   "cell_type": "code",
   "execution_count": 26,
   "id": "91437822",
   "metadata": {},
   "outputs": [
    {
     "name": "stdout",
     "output_type": "stream",
     "text": [
      "1.41 ms ± 16.3 µs per loop (mean ± std. dev. of 7 runs, 1,000 loops each)\n"
     ]
    }
   ],
   "source": [
    "# To test speed for a while loop, first write it as a function and test the time on calling the function\n",
    "def latitudes(size):\n",
    "    latitudes = []\n",
    "    x = 0\n",
    "    while x < size:\n",
    "        random_lat = random.randint(-90, 90) + random.random()\n",
    "        latitudes.append(random_lat)\n",
    "        x += 1\n",
    "    return latitudes\n",
    "# Call and time function\n",
    "%timeit latitudes(1500)"
   ]
  },
  {
   "cell_type": "code",
   "execution_count": 27,
   "id": "d23db328",
   "metadata": {},
   "outputs": [
    {
     "name": "stdout",
     "output_type": "stream",
     "text": [
      "1.41 ms ± 6.4 µs per loop (mean ± std. dev. of 7 runs, 1,000 loops each)\n"
     ]
    }
   ],
   "source": [
    "def latitudes_2(size):\n",
    "    latitudes = []\n",
    "    x = 0\n",
    "    while x < size:\n",
    "        latitudes.append(random.randint(-90, 90) + random.random())\n",
    "        x += 1\n",
    "    return latitudes\n",
    "# Call and time function\n",
    "%timeit latitudes_2(1500)"
   ]
  },
  {
   "cell_type": "code",
   "execution_count": 28,
   "id": "2f32b372",
   "metadata": {},
   "outputs": [
    {
     "name": "stdout",
     "output_type": "stream",
     "text": [
      "3.6 ms ± 92.3 µs per loop (mean ± std. dev. of 7 runs, 100 loops each)\n"
     ]
    }
   ],
   "source": [
    "def latitudes_3(size):\n",
    "    latitudes = []\n",
    "    x = 0\n",
    "    while x < size:\n",
    "        latitudes.append(np.random.uniform(-90, 90))\n",
    "        x += 1\n",
    "    return latitudes\n",
    "# Call and time function\n",
    "%timeit latitudes_3(1500)"
   ]
  },
  {
   "cell_type": "code",
   "execution_count": 29,
   "id": "e02a467b",
   "metadata": {},
   "outputs": [
    {
     "name": "stdout",
     "output_type": "stream",
     "text": [
      "3.57 ms ± 163 µs per loop (mean ± std. dev. of 7 runs, 100 loops each)\n"
     ]
    }
   ],
   "source": [
    "def latitudes_4(size):\n",
    "    latitudes = []\n",
    "    for x in range (size + 1):\n",
    "        latitudes.append(np.random.uniform(-90, 90))\n",
    "    \n",
    "    return latitudes\n",
    "%timeit latitudes_4(1500)"
   ]
  },
  {
   "cell_type": "code",
   "execution_count": null,
   "id": "499bbb96",
   "metadata": {},
   "outputs": [],
   "source": []
  }
 ],
 "metadata": {
  "kernelspec": {
   "display_name": "Python 3 (ipykernel)",
   "language": "python",
   "name": "python3"
  },
  "language_info": {
   "codemirror_mode": {
    "name": "ipython",
    "version": 3
   },
   "file_extension": ".py",
   "mimetype": "text/x-python",
   "name": "python",
   "nbconvert_exporter": "python",
   "pygments_lexer": "ipython3",
   "version": "3.9.12"
  }
 },
 "nbformat": 4,
 "nbformat_minor": 5
}
