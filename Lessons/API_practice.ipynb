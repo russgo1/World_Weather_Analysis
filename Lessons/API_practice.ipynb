{
 "cells": [
  {
   "cell_type": "markdown",
   "id": "48b9b733",
   "metadata": {},
   "source": [
    "## 6.1.4 New File 2"
   ]
  },
  {
   "cell_type": "markdown",
   "id": "4ccf1b7c",
   "metadata": {},
   "source": [
    "### Zipping and unzipping"
   ]
  },
  {
   "cell_type": "code",
   "execution_count": 1,
   "id": "ea8f6b6a",
   "metadata": {},
   "outputs": [],
   "source": [
    "lats = [25.12903645, 25.92017388, 26.62509167, -59.98969384, 37.30571269]\n",
    "lngs = [-67.59741259, 11.09532135, 74.84233102, -76.89176677, -61.13376282]\n",
    "lat_lngs = zip(lats, lngs)"
   ]
  },
  {
   "cell_type": "code",
   "execution_count": 2,
   "id": "494776c8",
   "metadata": {},
   "outputs": [],
   "source": [
    "coordinates = list(lat_lngs)"
   ]
  },
  {
   "cell_type": "code",
   "execution_count": 3,
   "id": "b097b62a",
   "metadata": {},
   "outputs": [
    {
     "name": "stdout",
     "output_type": "stream",
     "text": [
      "25.12903645 -67.59741259\n",
      "25.92017388 11.09532135\n",
      "26.62509167 74.84233102\n",
      "-59.98969384 -76.89176677\n",
      "37.30571269 -61.13376282\n"
     ]
    }
   ],
   "source": [
    "for coordinate in coordinates:\n",
    "    print(coordinate[0], coordinate[1])"
   ]
  },
  {
   "cell_type": "markdown",
   "id": "1e72d69e",
   "metadata": {},
   "source": [
    "## 6.1.5 City lookup with citipy"
   ]
  },
  {
   "cell_type": "code",
   "execution_count": 4,
   "id": "c1679549",
   "metadata": {},
   "outputs": [],
   "source": [
    "from citipy import citipy"
   ]
  },
  {
   "cell_type": "code",
   "execution_count": 5,
   "id": "1d349ed6",
   "metadata": {},
   "outputs": [
    {
     "name": "stdout",
     "output_type": "stream",
     "text": [
      "['cockburn town', 'gat', 'parvatsar', 'punta arenas', 'saint george']\n"
     ]
    }
   ],
   "source": [
    "# My idea \n",
    "cities = []\n",
    "for coordinate in coordinates:\n",
    "    city = citipy.nearest_city(coordinate[0], coordinate[1]).city_name\n",
    "    cities.append(city)\n",
    "    \n",
    "print(cities)"
   ]
  },
  {
   "cell_type": "code",
   "execution_count": 6,
   "id": "9eece3f7",
   "metadata": {},
   "outputs": [
    {
     "name": "stdout",
     "output_type": "stream",
     "text": [
      "[(25.12903645, -67.59741259), (25.92017388, 11.09532135), (26.62509167, 74.84233102), (-59.98969384, -76.89176677), (37.30571269, -61.13376282)]\n"
     ]
    }
   ],
   "source": [
    "print(coordinates)"
   ]
  },
  {
   "cell_type": "code",
   "execution_count": 7,
   "id": "8eacd517",
   "metadata": {},
   "outputs": [
    {
     "name": "stdout",
     "output_type": "stream",
     "text": [
      "25.12903645  :  -67.59741259\n",
      "25.92017388  :  11.09532135\n",
      "26.62509167  :  74.84233102\n",
      "-59.98969384  :  -76.89176677\n",
      "37.30571269  :  -61.13376282\n"
     ]
    }
   ],
   "source": [
    "for coordinate in coordinates:\n",
    "    print(coordinate[0], \" : \", coordinate[1])"
   ]
  },
  {
   "cell_type": "code",
   "execution_count": 8,
   "id": "56a41814",
   "metadata": {},
   "outputs": [
    {
     "name": "stdout",
     "output_type": "stream",
     "text": [
      "cockburn town tc\n",
      "gat ly\n",
      "parvatsar in\n",
      "punta arenas cl\n",
      "saint george bm\n"
     ]
    }
   ],
   "source": [
    "# From Module\n",
    "for coordinate in coordinates:\n",
    "    print(citipy.nearest_city(coordinate[0], coordinate[1]).city_name,\n",
    "          citipy.nearest_city(coordinate[0], coordinate[1]).country_code)"
   ]
  },
  {
   "cell_type": "markdown",
   "id": "11b94712",
   "metadata": {},
   "source": [
    "## 6.2.3 Practice API call"
   ]
  },
  {
   "cell_type": "code",
   "execution_count": 14,
   "id": "636fd0b6",
   "metadata": {},
   "outputs": [],
   "source": [
    "import sys"
   ]
  },
  {
   "cell_type": "code",
   "execution_count": 15,
   "id": "e5abcd3a",
   "metadata": {},
   "outputs": [],
   "source": [
    "# This method of importing from a different file taken from https://stackoverflow.com/questions/4383571/importing-files-from-different-folder\n",
    "sys.path.insert(1, '/Users/russellshomefolder/Bootcamp_Work/Module_6')\n",
    "\n",
    "from config import weather_api_key"
   ]
  },
  {
   "cell_type": "code",
   "execution_count": 16,
   "id": "d7af86e4",
   "metadata": {},
   "outputs": [],
   "source": [
    "# Set the basic url\n",
    "url = \"http://api.openweathermap.org/data/2.5/weather?units=Imperial&APPID=\" + weather_api_key\n"
   ]
  },
  {
   "cell_type": "code",
   "execution_count": 19,
   "id": "bb5ba286",
   "metadata": {},
   "outputs": [],
   "source": [
    "# Create endpoint url for a city\n",
    "city_url = url + \"&q=\" + \"Boston\""
   ]
  },
  {
   "cell_type": "markdown",
   "id": "1b2a6ccf",
   "metadata": {},
   "source": [
    "## 6.2.4 More API Calling"
   ]
  },
  {
   "cell_type": "code",
   "execution_count": 20,
   "id": "5f7cc690",
   "metadata": {},
   "outputs": [],
   "source": [
    "import requests"
   ]
  },
  {
   "cell_type": "code",
   "execution_count": 22,
   "id": "6ade8f3f",
   "metadata": {},
   "outputs": [
    {
     "data": {
      "text/plain": [
       "<Response [200]>"
      ]
     },
     "execution_count": 22,
     "metadata": {},
     "output_type": "execute_result"
    }
   ],
   "source": [
    "city_weather = requests.get(city_url)\n",
    "city_weather"
   ]
  },
  {
   "cell_type": "code",
   "execution_count": 24,
   "id": "890ba57e",
   "metadata": {},
   "outputs": [
    {
     "data": {
      "text/plain": [
       "200"
      ]
     },
     "execution_count": 24,
     "metadata": {},
     "output_type": "execute_result"
    }
   ],
   "source": [
    "city_weather.status_code"
   ]
  },
  {
   "cell_type": "markdown",
   "id": "ee8b0028",
   "metadata": {},
   "source": [
    "### Response 404 means there an error"
   ]
  },
  {
   "cell_type": "code",
   "execution_count": 25,
   "id": "1973116d",
   "metadata": {},
   "outputs": [
    {
     "data": {
      "text/plain": [
       "<Response [404]>"
      ]
     },
     "execution_count": 25,
     "metadata": {},
     "output_type": "execute_result"
    }
   ],
   "source": [
    "# Note that Boston is spelled incorrectly\n",
    "city_url = url + \"&q=\" + \"Bston\"\n",
    "city_weather = requests.get(city_url)\n",
    "city_weather"
   ]
  },
  {
   "cell_type": "code",
   "execution_count": 26,
   "id": "a7bc62ed",
   "metadata": {},
   "outputs": [
    {
     "data": {
      "text/plain": [
       "<Response [200]>"
      ]
     },
     "execution_count": 26,
     "metadata": {},
     "output_type": "execute_result"
    }
   ],
   "source": [
    "# Back to correct spelling\n",
    "city_url = url + \"&q=\" + \"Boston\"\n",
    "city_weather = requests.get(city_url)\n",
    "city_weather"
   ]
  },
  {
   "cell_type": "code",
   "execution_count": 27,
   "id": "100c1a3d",
   "metadata": {},
   "outputs": [
    {
     "data": {
      "text/plain": [
       "'{\"coord\":{\"lon\":-71.0598,\"lat\":42.3584},\"weather\":[{\"id\":802,\"main\":\"Clouds\",\"description\":\"scattered clouds\",\"icon\":\"03n\"}],\"base\":\"stations\",\"main\":{\"temp\":66.99,\"feels_like\":67.39,\"temp_min\":63.95,\"temp_max\":69.66,\"pressure\":1021,\"humidity\":85},\"visibility\":10000,\"wind\":{\"speed\":16.11,\"deg\":220},\"clouds\":{\"all\":40},\"dt\":1667790119,\"sys\":{\"type\":2,\"id\":2013408,\"country\":\"US\",\"sunrise\":1667733825,\"sunset\":1667770320},\"timezone\":-18000,\"id\":4930956,\"name\":\"Boston\",\"cod\":200}'"
      ]
     },
     "execution_count": 27,
     "metadata": {},
     "output_type": "execute_result"
    }
   ],
   "source": [
    "# Get the text of the \"get\" request\n",
    "# Create an endpoint URL for a city.\n",
    "\n",
    "city_weather.text"
   ]
  },
  {
   "cell_type": "code",
   "execution_count": 28,
   "id": "36c03c6f",
   "metadata": {},
   "outputs": [],
   "source": [
    "# JSON is a dictionary of dictionaries and arrays"
   ]
  },
  {
   "cell_type": "code",
   "execution_count": 30,
   "id": "5f2cce4d",
   "metadata": {},
   "outputs": [
    {
     "data": {
      "text/plain": [
       "{'coord': {'lon': -71.0598, 'lat': 42.3584},\n",
       " 'weather': [{'id': 802,\n",
       "   'main': 'Clouds',\n",
       "   'description': 'scattered clouds',\n",
       "   'icon': '03n'}],\n",
       " 'base': 'stations',\n",
       " 'main': {'temp': 66.99,\n",
       "  'feels_like': 67.39,\n",
       "  'temp_min': 63.95,\n",
       "  'temp_max': 69.66,\n",
       "  'pressure': 1021,\n",
       "  'humidity': 85},\n",
       " 'visibility': 10000,\n",
       " 'wind': {'speed': 16.11, 'deg': 220},\n",
       " 'clouds': {'all': 40},\n",
       " 'dt': 1667790119,\n",
       " 'sys': {'type': 2,\n",
       "  'id': 2013408,\n",
       "  'country': 'US',\n",
       "  'sunrise': 1667733825,\n",
       "  'sunset': 1667770320},\n",
       " 'timezone': -18000,\n",
       " 'id': 4930956,\n",
       " 'name': 'Boston',\n",
       " 'cod': 200}"
      ]
     },
     "execution_count": 30,
     "metadata": {},
     "output_type": "execute_result"
    }
   ],
   "source": [
    "# Get JSON text\n",
    "city_weather.json()"
   ]
  },
  {
   "cell_type": "code",
   "execution_count": 31,
   "id": "b58daa4a",
   "metadata": {},
   "outputs": [
    {
     "name": "stdout",
     "output_type": "stream",
     "text": [
      "City weather found.\n"
     ]
    }
   ],
   "source": [
    "# Create a conditional to see if a valid response was received\n",
    "city_url = url + \"&q=\" + \"Boston\"\n",
    "city_weather = requests.get(city_url)\n",
    "if city_weather.status_code == 200:\n",
    "    print(\"City weather found.\")\n",
    "else:\n",
    "    print(\"City weather not found\")"
   ]
  },
  {
   "cell_type": "code",
   "execution_count": 32,
   "id": "89644f1f",
   "metadata": {},
   "outputs": [
    {
     "name": "stdout",
     "output_type": "stream",
     "text": [
      "City weather not found\n"
     ]
    }
   ],
   "source": [
    "# Note spelling error in Boston\n",
    "city_url = url + \"&q=\" + \"Bston\"\n",
    "city_weather = requests.get(city_url)\n",
    "if city_weather.status_code == 200:\n",
    "    print(\"City weather found.\")\n",
    "else:\n",
    "    print(\"City weather not found\")"
   ]
  },
  {
   "cell_type": "code",
   "execution_count": 33,
   "id": "1ca6889b",
   "metadata": {},
   "outputs": [],
   "source": [
    "# However, if we type print(city_url) in a new cell and run the cell, the output will be a URL. \n",
    "#If we click the URL, the web browser returns a 404 response and there is no data to retrieve."
   ]
  },
  {
   "cell_type": "markdown",
   "id": "e4e644fc",
   "metadata": {},
   "source": [
    "## 6.2.5 Mind for JSON and move to DataFrames"
   ]
  },
  {
   "cell_type": "code",
   "execution_count": 34,
   "id": "131e4248",
   "metadata": {},
   "outputs": [
    {
     "data": {
      "text/plain": [
       "{'coord': {'lon': -71.0598, 'lat': 42.3584},\n",
       " 'weather': [{'id': 802,\n",
       "   'main': 'Clouds',\n",
       "   'description': 'scattered clouds',\n",
       "   'icon': '03n'}],\n",
       " 'base': 'stations',\n",
       " 'main': {'temp': 66.92,\n",
       "  'feels_like': 67.32,\n",
       "  'temp_min': 63.95,\n",
       "  'temp_max': 69.66,\n",
       "  'pressure': 1020,\n",
       "  'humidity': 85},\n",
       " 'visibility': 10000,\n",
       " 'wind': {'speed': 16.11, 'deg': 220},\n",
       " 'clouds': {'all': 40},\n",
       " 'dt': 1667790901,\n",
       " 'sys': {'type': 2,\n",
       "  'id': 2013408,\n",
       "  'country': 'US',\n",
       "  'sunrise': 1667733825,\n",
       "  'sunset': 1667770320},\n",
       " 'timezone': -18000,\n",
       " 'id': 4930956,\n",
       " 'name': 'Boston',\n",
       " 'cod': 200}"
      ]
     },
     "execution_count": 34,
     "metadata": {},
     "output_type": "execute_result"
    }
   ],
   "source": [
    "# Reset to correct spelling and json request\n",
    "city_url = url + \"&q=\" + \"Boston\"\n",
    "city_weather = requests.get(city_url)\n",
    "city_weather.json()"
   ]
  },
  {
   "cell_type": "markdown",
   "id": "ce3b966e",
   "metadata": {},
   "source": [
    "### Get country code from nested dictionary that starts with sys"
   ]
  },
  {
   "cell_type": "code",
   "execution_count": 35,
   "id": "f3ceb223",
   "metadata": {},
   "outputs": [],
   "source": [
    "# Set json to variable\n",
    "boston_data = city_weather.json()"
   ]
  },
  {
   "cell_type": "code",
   "execution_count": 38,
   "id": "c940cc26",
   "metadata": {},
   "outputs": [
    {
     "data": {
      "text/plain": [
       "{'type': 2,\n",
       " 'id': 2013408,\n",
       " 'country': 'US',\n",
       " 'sunrise': 1667733825,\n",
       " 'sunset': 1667770320}"
      ]
     },
     "execution_count": 38,
     "metadata": {},
     "output_type": "execute_result"
    }
   ],
   "source": [
    "# Output sys dictionary\n",
    "boston_data[\"sys\"]"
   ]
  },
  {
   "cell_type": "code",
   "execution_count": 39,
   "id": "d7e8e80d",
   "metadata": {},
   "outputs": [
    {
     "data": {
      "text/plain": [
       "'US'"
      ]
     },
     "execution_count": 39,
     "metadata": {},
     "output_type": "execute_result"
    }
   ],
   "source": [
    "# Add 'coutnry' key as an additional index to retrieve that value\n",
    "boston_data[\"sys\"][\"country\"]"
   ]
  },
  {
   "cell_type": "code",
   "execution_count": 40,
   "id": "1abe9932",
   "metadata": {},
   "outputs": [
    {
     "data": {
      "text/plain": [
       "1667790901"
      ]
     },
     "execution_count": 40,
     "metadata": {},
     "output_type": "execute_result"
    }
   ],
   "source": [
    "# Retrieve data\n",
    "# Database timestamp format\n",
    "boston_data[\"dt\"]"
   ]
  },
  {
   "cell_type": "code",
   "execution_count": 42,
   "id": "1e0e3467",
   "metadata": {},
   "outputs": [
    {
     "name": "stdout",
     "output_type": "stream",
     "text": [
      "42.3584 -71.0598 69.66 85 40 16.11\n"
     ]
    }
   ],
   "source": [
    "# Use similar method to retrieve more data and save to variables\n",
    "lat = boston_data[\"coord\"][\"lat\"]\n",
    "lng = boston_data[\"coord\"][\"lon\"]\n",
    "max_temp = boston_data[\"main\"][\"temp_max\"]\n",
    "min_temp = boston_data[\"main\"][\"temp_min\"]\n",
    "humidity = boston_data[\"main\"][\"humidity\"]\n",
    "clouds = boston_data[\"clouds\"][\"all\"]\n",
    "wind = boston_data[\"wind\"][\"speed\"]\n",
    "print(lat, lng, max_temp, humidity, clouds, wind)"
   ]
  },
  {
   "cell_type": "markdown",
   "id": "83955849",
   "metadata": {},
   "source": [
    "### datetime conversion"
   ]
  },
  {
   "cell_type": "code",
   "execution_count": 43,
   "id": "aa7f1e6b",
   "metadata": {},
   "outputs": [],
   "source": [
    "from datetime import datetime"
   ]
  },
  {
   "cell_type": "code",
   "execution_count": 44,
   "id": "1ca6fb3e",
   "metadata": {},
   "outputs": [
    {
     "data": {
      "text/plain": [
       "datetime.datetime(2022, 11, 7, 3, 15, 1)"
      ]
     },
     "execution_count": 44,
     "metadata": {},
     "output_type": "execute_result"
    }
   ],
   "source": [
    "date = boston_data[\"dt\"]\n",
    "# Convert the UTC date to a date format with year, month, day, hours, minutes, and seconds.\n",
    "datetime.utcfromtimestamp(date)"
   ]
  },
  {
   "cell_type": "code",
   "execution_count": 45,
   "id": "b35d0126",
   "metadata": {},
   "outputs": [
    {
     "data": {
      "text/plain": [
       "'2022-11-07 03:15:01'"
      ]
     },
     "execution_count": 45,
     "metadata": {},
     "output_type": "execute_result"
    }
   ],
   "source": [
    "# date and time can be formatted using this function and formatting directions\n",
    "datetime.utcfromtimestamp(date).strftime(\"%Y-%m-%d %H:%M:%S\")"
   ]
  },
  {
   "cell_type": "code",
   "execution_count": null,
   "id": "48274a66",
   "metadata": {},
   "outputs": [],
   "source": []
  }
 ],
 "metadata": {
  "kernelspec": {
   "display_name": "PythonData",
   "language": "python",
   "name": "pythondata"
  },
  "language_info": {
   "codemirror_mode": {
    "name": "ipython",
    "version": 3
   },
   "file_extension": ".py",
   "mimetype": "text/x-python",
   "name": "python",
   "nbconvert_exporter": "python",
   "pygments_lexer": "ipython3",
   "version": "3.9.12"
  }
 },
 "nbformat": 4,
 "nbformat_minor": 5
}
